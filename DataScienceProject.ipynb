{
  "cells": [
    {
      "cell_type": "markdown",
      "source": [
        "**Pistachio DataSet Project**\n",
        "\n"
      ],
      "metadata": {
        "id": "ZUYQerSG-RFK"
      }
    },
    {
      "cell_type": "code",
      "execution_count": null,
      "metadata": {
        "id": "cwoAS9jktqR3"
      },
      "outputs": [],
      "source": [
        "import pandas as pd\n",
        "import matplotlib.pyplot as plt\n",
        "import seaborn as sns\n",
        "import numpy as np\n",
        "from sklearn.model_selection import train_test_split\n",
        "from sklearn.preprocessing import LabelEncoder\n",
        "from joblib.parallel import DEFAULT_MP_CONTEXT\n",
        "from sklearn import preprocessing as per\n",
        "from sklearn.datasets import load_boston\n",
        "from sklearn.preprocessing import StandardScaler\n",
        "from sklearn.neighbors import KNeighborsClassifier\n",
        "from sklearn.neighbors import KNeighborsRegressor\n",
        "from sklearn.metrics import classification_report\n",
        "from sklearn.metrics import confusion_matrix\n",
        "from sklearn.metrics import accuracy_score\n",
        "from sklearn import metrics"
      ]
    },
    {
      "cell_type": "code",
      "source": [
        "data = \"Pistachio.xlsx\"\n",
        "df = pd.read_excel(data)\n",
        "df = df.dropna()\n",
        "df.head()"
      ],
      "metadata": {
        "colab": {
          "base_uri": "https://localhost:8080/",
          "height": 380
        },
        "id": "l_OY5KlhUfT2",
        "outputId": "9dfac70a-d529-450e-c6dd-89cc410e2c4a"
      },
      "execution_count": null,
      "outputs": [
        {
          "output_type": "error",
          "ename": "FileNotFoundError",
          "evalue": "ignored",
          "traceback": [
            "\u001b[0;31m---------------------------------------------------------------------------\u001b[0m",
            "\u001b[0;31mFileNotFoundError\u001b[0m                         Traceback (most recent call last)",
            "\u001b[0;32m<ipython-input-2-b1f581a98b59>\u001b[0m in \u001b[0;36m<module>\u001b[0;34m\u001b[0m\n\u001b[1;32m      1\u001b[0m \u001b[0mdata\u001b[0m \u001b[0;34m=\u001b[0m \u001b[0;34m\"Pistachio.xlsx\"\u001b[0m\u001b[0;34m\u001b[0m\u001b[0;34m\u001b[0m\u001b[0m\n\u001b[0;32m----> 2\u001b[0;31m \u001b[0mdf\u001b[0m \u001b[0;34m=\u001b[0m \u001b[0mpd\u001b[0m\u001b[0;34m.\u001b[0m\u001b[0mread_excel\u001b[0m\u001b[0;34m(\u001b[0m\u001b[0mdata\u001b[0m\u001b[0;34m)\u001b[0m\u001b[0;34m\u001b[0m\u001b[0;34m\u001b[0m\u001b[0m\n\u001b[0m\u001b[1;32m      3\u001b[0m \u001b[0mdf\u001b[0m \u001b[0;34m=\u001b[0m \u001b[0mdf\u001b[0m\u001b[0;34m.\u001b[0m\u001b[0mdropna\u001b[0m\u001b[0;34m(\u001b[0m\u001b[0;34m)\u001b[0m\u001b[0;34m\u001b[0m\u001b[0;34m\u001b[0m\u001b[0m\n\u001b[1;32m      4\u001b[0m \u001b[0mdf\u001b[0m\u001b[0;34m.\u001b[0m\u001b[0mhead\u001b[0m\u001b[0;34m(\u001b[0m\u001b[0;34m)\u001b[0m\u001b[0;34m\u001b[0m\u001b[0;34m\u001b[0m\u001b[0m\n",
            "\u001b[0;32m/usr/local/lib/python3.7/dist-packages/pandas/util/_decorators.py\u001b[0m in \u001b[0;36mwrapper\u001b[0;34m(*args, **kwargs)\u001b[0m\n\u001b[1;32m    309\u001b[0m                     \u001b[0mstacklevel\u001b[0m\u001b[0;34m=\u001b[0m\u001b[0mstacklevel\u001b[0m\u001b[0;34m,\u001b[0m\u001b[0;34m\u001b[0m\u001b[0;34m\u001b[0m\u001b[0m\n\u001b[1;32m    310\u001b[0m                 )\n\u001b[0;32m--> 311\u001b[0;31m             \u001b[0;32mreturn\u001b[0m \u001b[0mfunc\u001b[0m\u001b[0;34m(\u001b[0m\u001b[0;34m*\u001b[0m\u001b[0margs\u001b[0m\u001b[0;34m,\u001b[0m \u001b[0;34m**\u001b[0m\u001b[0mkwargs\u001b[0m\u001b[0;34m)\u001b[0m\u001b[0;34m\u001b[0m\u001b[0;34m\u001b[0m\u001b[0m\n\u001b[0m\u001b[1;32m    312\u001b[0m \u001b[0;34m\u001b[0m\u001b[0m\n\u001b[1;32m    313\u001b[0m         \u001b[0;32mreturn\u001b[0m \u001b[0mwrapper\u001b[0m\u001b[0;34m\u001b[0m\u001b[0;34m\u001b[0m\u001b[0m\n",
            "\u001b[0;32m/usr/local/lib/python3.7/dist-packages/pandas/io/excel/_base.py\u001b[0m in \u001b[0;36mread_excel\u001b[0;34m(io, sheet_name, header, names, index_col, usecols, squeeze, dtype, engine, converters, true_values, false_values, skiprows, nrows, na_values, keep_default_na, na_filter, verbose, parse_dates, date_parser, thousands, comment, skipfooter, convert_float, mangle_dupe_cols, storage_options)\u001b[0m\n\u001b[1;32m    362\u001b[0m     \u001b[0;32mif\u001b[0m \u001b[0;32mnot\u001b[0m \u001b[0misinstance\u001b[0m\u001b[0;34m(\u001b[0m\u001b[0mio\u001b[0m\u001b[0;34m,\u001b[0m \u001b[0mExcelFile\u001b[0m\u001b[0;34m)\u001b[0m\u001b[0;34m:\u001b[0m\u001b[0;34m\u001b[0m\u001b[0;34m\u001b[0m\u001b[0m\n\u001b[1;32m    363\u001b[0m         \u001b[0mshould_close\u001b[0m \u001b[0;34m=\u001b[0m \u001b[0;32mTrue\u001b[0m\u001b[0;34m\u001b[0m\u001b[0;34m\u001b[0m\u001b[0m\n\u001b[0;32m--> 364\u001b[0;31m         \u001b[0mio\u001b[0m \u001b[0;34m=\u001b[0m \u001b[0mExcelFile\u001b[0m\u001b[0;34m(\u001b[0m\u001b[0mio\u001b[0m\u001b[0;34m,\u001b[0m \u001b[0mstorage_options\u001b[0m\u001b[0;34m=\u001b[0m\u001b[0mstorage_options\u001b[0m\u001b[0;34m,\u001b[0m \u001b[0mengine\u001b[0m\u001b[0;34m=\u001b[0m\u001b[0mengine\u001b[0m\u001b[0;34m)\u001b[0m\u001b[0;34m\u001b[0m\u001b[0;34m\u001b[0m\u001b[0m\n\u001b[0m\u001b[1;32m    365\u001b[0m     \u001b[0;32melif\u001b[0m \u001b[0mengine\u001b[0m \u001b[0;32mand\u001b[0m \u001b[0mengine\u001b[0m \u001b[0;34m!=\u001b[0m \u001b[0mio\u001b[0m\u001b[0;34m.\u001b[0m\u001b[0mengine\u001b[0m\u001b[0;34m:\u001b[0m\u001b[0;34m\u001b[0m\u001b[0;34m\u001b[0m\u001b[0m\n\u001b[1;32m    366\u001b[0m         raise ValueError(\n",
            "\u001b[0;32m/usr/local/lib/python3.7/dist-packages/pandas/io/excel/_base.py\u001b[0m in \u001b[0;36m__init__\u001b[0;34m(self, path_or_buffer, engine, storage_options)\u001b[0m\n\u001b[1;32m   1190\u001b[0m             \u001b[0;32melse\u001b[0m\u001b[0;34m:\u001b[0m\u001b[0;34m\u001b[0m\u001b[0;34m\u001b[0m\u001b[0m\n\u001b[1;32m   1191\u001b[0m                 ext = inspect_excel_format(\n\u001b[0;32m-> 1192\u001b[0;31m                     \u001b[0mcontent_or_path\u001b[0m\u001b[0;34m=\u001b[0m\u001b[0mpath_or_buffer\u001b[0m\u001b[0;34m,\u001b[0m \u001b[0mstorage_options\u001b[0m\u001b[0;34m=\u001b[0m\u001b[0mstorage_options\u001b[0m\u001b[0;34m\u001b[0m\u001b[0;34m\u001b[0m\u001b[0m\n\u001b[0m\u001b[1;32m   1193\u001b[0m                 )\n\u001b[1;32m   1194\u001b[0m                 \u001b[0;32mif\u001b[0m \u001b[0mext\u001b[0m \u001b[0;32mis\u001b[0m \u001b[0;32mNone\u001b[0m\u001b[0;34m:\u001b[0m\u001b[0;34m\u001b[0m\u001b[0;34m\u001b[0m\u001b[0m\n",
            "\u001b[0;32m/usr/local/lib/python3.7/dist-packages/pandas/io/excel/_base.py\u001b[0m in \u001b[0;36minspect_excel_format\u001b[0;34m(content_or_path, storage_options)\u001b[0m\n\u001b[1;32m   1069\u001b[0m \u001b[0;34m\u001b[0m\u001b[0m\n\u001b[1;32m   1070\u001b[0m     with get_handle(\n\u001b[0;32m-> 1071\u001b[0;31m         \u001b[0mcontent_or_path\u001b[0m\u001b[0;34m,\u001b[0m \u001b[0;34m\"rb\"\u001b[0m\u001b[0;34m,\u001b[0m \u001b[0mstorage_options\u001b[0m\u001b[0;34m=\u001b[0m\u001b[0mstorage_options\u001b[0m\u001b[0;34m,\u001b[0m \u001b[0mis_text\u001b[0m\u001b[0;34m=\u001b[0m\u001b[0;32mFalse\u001b[0m\u001b[0;34m\u001b[0m\u001b[0;34m\u001b[0m\u001b[0m\n\u001b[0m\u001b[1;32m   1072\u001b[0m     ) as handle:\n\u001b[1;32m   1073\u001b[0m         \u001b[0mstream\u001b[0m \u001b[0;34m=\u001b[0m \u001b[0mhandle\u001b[0m\u001b[0;34m.\u001b[0m\u001b[0mhandle\u001b[0m\u001b[0;34m\u001b[0m\u001b[0;34m\u001b[0m\u001b[0m\n",
            "\u001b[0;32m/usr/local/lib/python3.7/dist-packages/pandas/io/common.py\u001b[0m in \u001b[0;36mget_handle\u001b[0;34m(path_or_buf, mode, encoding, compression, memory_map, is_text, errors, storage_options)\u001b[0m\n\u001b[1;32m    709\u001b[0m         \u001b[0;32melse\u001b[0m\u001b[0;34m:\u001b[0m\u001b[0;34m\u001b[0m\u001b[0;34m\u001b[0m\u001b[0m\n\u001b[1;32m    710\u001b[0m             \u001b[0;31m# Binary mode\u001b[0m\u001b[0;34m\u001b[0m\u001b[0;34m\u001b[0m\u001b[0;34m\u001b[0m\u001b[0m\n\u001b[0;32m--> 711\u001b[0;31m             \u001b[0mhandle\u001b[0m \u001b[0;34m=\u001b[0m \u001b[0mopen\u001b[0m\u001b[0;34m(\u001b[0m\u001b[0mhandle\u001b[0m\u001b[0;34m,\u001b[0m \u001b[0mioargs\u001b[0m\u001b[0;34m.\u001b[0m\u001b[0mmode\u001b[0m\u001b[0;34m)\u001b[0m\u001b[0;34m\u001b[0m\u001b[0;34m\u001b[0m\u001b[0m\n\u001b[0m\u001b[1;32m    712\u001b[0m         \u001b[0mhandles\u001b[0m\u001b[0;34m.\u001b[0m\u001b[0mappend\u001b[0m\u001b[0;34m(\u001b[0m\u001b[0mhandle\u001b[0m\u001b[0;34m)\u001b[0m\u001b[0;34m\u001b[0m\u001b[0;34m\u001b[0m\u001b[0m\n\u001b[1;32m    713\u001b[0m \u001b[0;34m\u001b[0m\u001b[0m\n",
            "\u001b[0;31mFileNotFoundError\u001b[0m: [Errno 2] No such file or directory: 'Pistachio.xlsx'"
          ]
        }
      ]
    },
    {
      "cell_type": "code",
      "source": [
        "Class_all = list(df.shape)[0]\n",
        "Class_categories = list(df['Class'].value_counts())\n",
        "\n",
        "print(\"\\n \\t The data has {} classes, {} Kirmizi_Pistachio and {} Siit_Pistachio.\".format(Class_all, \n",
        "                                                                                 Class_categories[0], \n",
        "                                                                                 Class_categories[1]))"
      ],
      "metadata": {
        "id": "ukfzW5HT0AGY"
      },
      "execution_count": null,
      "outputs": []
    },
    {
      "cell_type": "code",
      "source": [
        "y = df[\"Class\"].values\n",
        "x = df.drop([\"Class\"],axis=1)\n",
        "x.head()"
      ],
      "metadata": {
        "id": "HhSWQ6Ml5Aoy"
      },
      "execution_count": null,
      "outputs": []
    },
    {
      "cell_type": "code",
      "execution_count": null,
      "metadata": {
        "id": "UsIReniWBKjU"
      },
      "outputs": [],
      "source": [
        "lb = LabelEncoder()\n",
        "y = lb.fit_transform(df['Class'])\n",
        "df['Class']=y\n",
        "df"
      ]
    },
    {
      "cell_type": "code",
      "execution_count": null,
      "metadata": {
        "id": "tr-ILA9WPW5w"
      },
      "outputs": [],
      "source": [
        "df.info()"
      ]
    },
    {
      "cell_type": "markdown",
      "metadata": {
        "id": "krZqfnrMGLSM"
      },
      "source": [
        "**Box Plot:**"
      ]
    },
    {
      "cell_type": "code",
      "source": [
        "#Creating subplot of each column with its own scale\n",
        "red_circle = dict(markerfacecolor='red', marker='o', markeredgecolor='white')\n",
        "\n",
        "fig, axs = plt.subplots(1, len(df[df.columns[0:15]].columns), figsize=(20,10))\n",
        "\n",
        "for i, ax in enumerate(axs.flat):\n",
        "    ax.boxplot(df.iloc[:,i], flierprops=red_circle, showfliers=False)\n",
        "    ax.set_title(df.columns[i], fontsize=20, fontweight='bold')\n",
        "    ax.tick_params(axis='y', labelsize=14)\n",
        "    \n",
        "plt.tight_layout()\n"
      ],
      "metadata": {
        "id": "54vD4pdrVSZ_"
      },
      "execution_count": null,
      "outputs": []
    },
    {
      "cell_type": "markdown",
      "metadata": {
        "id": "ymOGNf0kGTfv"
      },
      "source": [
        "**Histogram:**"
      ]
    },
    {
      "cell_type": "code",
      "execution_count": null,
      "metadata": {
        "id": "N9-PH3RpPqUk"
      },
      "outputs": [],
      "source": [
        "for i in df.columns:\n",
        "  plt.figure()\n",
        "  plt.hist(df[i])\n",
        "  plt.title(i)"
      ]
    },
    {
      "cell_type": "markdown",
      "source": [
        "**Correlation:**"
      ],
      "metadata": {
        "id": "ME3IQDgJ-pTw"
      }
    },
    {
      "cell_type": "code",
      "source": [
        "corr = df.corr()\n",
        "corr"
      ],
      "metadata": {
        "id": "yJMcI7I-AyaR"
      },
      "execution_count": null,
      "outputs": []
    },
    {
      "cell_type": "code",
      "source": [
        "features_mean= list(df.columns[0:15])\n",
        "plt.figure(figsize=(10,10))\n",
        "sns.heatmap(df[features_mean].corr(), annot=True, square=True, cmap='coolwarm')\n",
        "plt.title('Correlation of numeric features')\n",
        "plt.show()"
      ],
      "metadata": {
        "id": "c_z55Xmuuj6g"
      },
      "execution_count": null,
      "outputs": []
    },
    {
      "cell_type": "code",
      "source": [
        "x_train,x_test,y_train,y_test = train_test_split(x,y,test_size=0.3,random_state=1)"
      ],
      "metadata": {
        "id": "GbpttAOOjnAt"
      },
      "execution_count": null,
      "outputs": []
    },
    {
      "cell_type": "code",
      "source": [
        "ss=StandardScaler()\n",
        "x_train = ss.fit_transform(x_train)\n",
        "x_test = ss.fit_transform(x_test)\n",
        "knn = KNeighborsClassifier()\n",
        "\n",
        "knn.fit(x_train,y_train)\n",
        "ypred=knn.predict(x_test)"
      ],
      "metadata": {
        "id": "jzPUEPP_jou6"
      },
      "execution_count": null,
      "outputs": []
    },
    {
      "cell_type": "code",
      "source": [
        "accuracy_score(y_test,ypred)"
      ],
      "metadata": {
        "id": "4Ll2RudLj74K"
      },
      "execution_count": null,
      "outputs": []
    },
    {
      "cell_type": "code",
      "source": [
        "\n",
        "# Select upper triangle of correlation matrix\n",
        "upper = corr.where(np.triu(np.ones(corr.shape), k=1).astype(np.bool))\n",
        "\n",
        "# Find index of feature columns with correlation greater than 0.77\n",
        "to_drop = [column for column in upper.columns if any(upper[column] > 0.77)]"
      ],
      "metadata": {
        "id": "5w7-p89nZL9X"
      },
      "execution_count": null,
      "outputs": []
    },
    {
      "cell_type": "code",
      "source": [
        "# Drop features \n",
        "dp_df = df.drop(df[to_drop], axis=1)\n",
        "print(dp_df)"
      ],
      "metadata": {
        "id": "74yIFwtQfXyR"
      },
      "execution_count": null,
      "outputs": []
    },
    {
      "cell_type": "code",
      "source": [
        "features_mean= list(dp_df.columns[0:15])\n",
        "plt.figure(figsize=(10,10))\n",
        "sns.heatmap(dp_df[features_mean].corr(), annot=True, square=True, cmap='coolwarm')\n",
        "plt.title('After correlated features dropped')\n",
        "plt.show()"
      ],
      "metadata": {
        "id": "f6fxTFB8aXlJ"
      },
      "execution_count": null,
      "outputs": []
    },
    {
      "cell_type": "markdown",
      "source": [
        "PreProcessing: Rescaling, Stadardization and Normalization:"
      ],
      "metadata": {
        "id": "17nkCSqjOwbp"
      }
    },
    {
      "cell_type": "code",
      "source": [
        "#rescaling\n",
        "scaler = per.MinMaxScaler(feature_range=(0,1))\n",
        "rescaleData = scaler.fit_transform(df)\n",
        "rescaleData = pd.DataFrame(rescaleData,index = df.index, columns = df.columns)\n",
        "print(rescaleData)"
      ],
      "metadata": {
        "id": "JX2RPSe-_pFG"
      },
      "execution_count": null,
      "outputs": []
    },
    {
      "cell_type": "code",
      "source": [
        "#Standardization\n",
        "scaler=StandardScaler().fit(df)\n",
        "standardizedData = scaler.transform(df)\n",
        "standardizedData = pd.DataFrame(standardizedData, index = df.index, columns = df.columns)\n",
        "print(standardizedData)"
      ],
      "metadata": {
        "id": "PxY0OGoSNzMo"
      },
      "execution_count": null,
      "outputs": []
    },
    {
      "cell_type": "code",
      "source": [
        "#normalization\n",
        "from sklearn.preprocessing import Normalizer\n",
        "scaler=Normalizer().fit(df)\n",
        "NormalizeData = scaler.transform(df)\n",
        "NormalizeData = pd.DataFrame(NormalizeData, index = df.index, columns = df.columns)\n",
        "print(NormalizeData)"
      ],
      "metadata": {
        "id": "XUdPUytMJ4TX"
      },
      "execution_count": null,
      "outputs": []
    },
    {
      "cell_type": "code",
      "source": [
        "knn=KNeighborsClassifier(n_neighbors=19)\n",
        "knn.fit(x_train,y_train)\n",
        "\n",
        "ypred=knn.predict(x_test)\n"
      ],
      "metadata": {
        "id": "mOWXQdjKmMr0"
      },
      "execution_count": null,
      "outputs": []
    },
    {
      "cell_type": "code",
      "source": [
        "accuracy_score(y_test,ypred)"
      ],
      "metadata": {
        "id": "Qdfea6pRotok"
      },
      "execution_count": null,
      "outputs": []
    },
    {
      "cell_type": "code",
      "source": [
        "cf_matrix = confusion_matrix(y_test, ypred)\n",
        "\n",
        "print(cf_matrix)\n",
        "print(metrics.classification_report(y_test, ypred))"
      ],
      "metadata": {
        "id": "4jzrTXBTFrXS"
      },
      "execution_count": null,
      "outputs": []
    },
    {
      "cell_type": "code",
      "source": [
        "#classes are imbalanced\n",
        "g = sns.countplot(df['Class'])\n",
        "g.set_xticklabels(['Kirmizi_Pistachio','Siit_Pistachio'])\n",
        "plt.show()"
      ],
      "metadata": {
        "id": "kzhrC4wBz4xT"
      },
      "execution_count": null,
      "outputs": []
    },
    {
      "cell_type": "code",
      "source": [
        "#Divide into training and test data\n",
        "X_train, X_test, y_train, y_test = train_test_split(x, y, test_size = 0.3)"
      ],
      "metadata": {
        "id": "NroKO0dMtXhV"
      },
      "execution_count": null,
      "outputs": []
    },
    {
      "cell_type": "code",
      "source": [
        "class_count_0, class_count_1 = df['Class'].value_counts()"
      ],
      "metadata": {
        "id": "77jcHvOpuYLe"
      },
      "execution_count": null,
      "outputs": []
    },
    {
      "cell_type": "code",
      "source": [
        "class_0 = df[df['Class'] == 0]\n",
        "class_1 = df[df['Class'] == 1]# print the shape of the class\n",
        "print('class 0:', class_0.shape)\n",
        "print('class 1:', class_1.shape)"
      ],
      "metadata": {
        "id": "3WyxRJJatezd"
      },
      "execution_count": null,
      "outputs": []
    },
    {
      "cell_type": "code",
      "source": [
        "class_1_over = class_1.sample(class_count_0, replace=True)\n",
        "\n",
        "test_over = pd.concat([class_1_over, class_0], axis=0)\n",
        "\n",
        "print(\"total class of 1 and 0 after oversampling: \\n\",test_over['Class'].value_counts())\n",
        "# plot the count after over-sampeling\n",
        "grph = sns.countplot(test_over['Class'])\n",
        "grph.set_xticklabels(['Kirmizi_Pistachio','Siit_Pistachio'])\n",
        "plt.show()\n"
      ],
      "metadata": {
        "id": "9eAuMl9ct2q3"
      },
      "execution_count": null,
      "outputs": []
    },
    {
      "cell_type": "code",
      "source": [
        "knn=KNeighborsClassifier(n_neighbors=19)\n",
        "knn.fit(x_train,y_train)\n",
        "\n",
        "ypred=knn.predict(x_test)"
      ],
      "metadata": {
        "id": "V261tvsmwnLU"
      },
      "execution_count": null,
      "outputs": []
    },
    {
      "cell_type": "code",
      "source": [
        "accuracy_score(y_test,ypred)"
      ],
      "metadata": {
        "id": "kNMMOVVlwz7D"
      },
      "execution_count": null,
      "outputs": []
    },
    {
      "cell_type": "code",
      "source": [
        "cf_matrix = confusion_matrix(y_test, ypred)\n",
        "\n",
        "print(cf_matrix)\n",
        "print(metrics.classification_report(y_test, ypred))"
      ],
      "metadata": {
        "id": "_T2SwET-8ez0"
      },
      "execution_count": null,
      "outputs": []
    },
    {
      "cell_type": "code",
      "source": [
        "# load library\n",
        "from sklearn.svm import SVC\n",
        "from sklearn.metrics import roc_auc_score\n",
        "\n",
        "# we can add class_weight='balanced' to add panalize mistake\n",
        "svc_model = SVC(class_weight='balanced', probability=True)\n",
        "\n",
        "svc_model.fit(x_train, y_train)\n",
        "\n",
        "svc_predict = svc_model.predict(x_test)# check performance\n",
        "print('ROCAUC score:',roc_auc_score(y_test, svc_predict))\n",
        "\n"
      ],
      "metadata": {
        "id": "sodmPw5hxXsB"
      },
      "execution_count": null,
      "outputs": []
    }
  ],
  "metadata": {
    "colab": {
      "provenance": []
    },
    "kernelspec": {
      "display_name": "Python 3",
      "name": "python3"
    },
    "language_info": {
      "name": "python"
    }
  },
  "nbformat": 4,
  "nbformat_minor": 0
}